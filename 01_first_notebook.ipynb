{
 "cells": [
  {
   "cell_type": "code",
   "execution_count": 1,
   "id": "2dc93b4c",
   "metadata": {},
   "outputs": [],
   "source": [
    "## Introduction\n",
    "## This is my *first* Jupyter notebook\n",
    "\n",
    "x=5\n",
    "y=6\n",
    "z=x+y\n"
   ]
  },
  {
   "cell_type": "code",
   "execution_count": 5,
   "id": "5b6a6d53",
   "metadata": {},
   "outputs": [
    {
     "name": "stdout",
     "output_type": "stream",
     "text": [
      "11\n"
     ]
    }
   ],
   "source": [
    "print(z)"
   ]
  },
  {
   "cell_type": "markdown",
   "id": "4a777cac",
   "metadata": {},
   "source": [
    "http://localhost:8888/notebooks/01_first_notebook.ipynb"
   ]
  },
  {
   "cell_type": "markdown",
   "id": "f5bceff8",
   "metadata": {},
   "source": [
    "[01_first_notebook](http://localhost:8888/notebooks/01_first_notebook.ipynb)"
   ]
  }
 ],
 "metadata": {
  "kernelspec": {
   "display_name": "Python 3 (ipykernel)",
   "language": "python",
   "name": "python3"
  },
  "language_info": {
   "codemirror_mode": {
    "name": "ipython",
    "version": 3
   },
   "file_extension": ".py",
   "mimetype": "text/x-python",
   "name": "python",
   "nbconvert_exporter": "python",
   "pygments_lexer": "ipython3",
   "version": "3.9.7"
  }
 },
 "nbformat": 4,
 "nbformat_minor": 5
}
